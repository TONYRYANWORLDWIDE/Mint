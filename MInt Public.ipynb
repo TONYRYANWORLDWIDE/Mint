{
 "cells": [
  {
   "cell_type": "code",
   "execution_count": 2,
   "metadata": {},
   "outputs": [],
   "source": [
    "import pandas as pd\n",
    "import os\n",
    "import requests as req\n",
    "from requests import get\n",
    "from selenium import webdriver\n",
    "from selenium.webdriver.common.by import By\n",
    "from selenium.webdriver.support.ui import WebDriverWait\n",
    "from selenium.webdriver.support import expected_conditions as EC \n",
    "import time\n",
    "from time import sleep \n",
    "from selenium.webdriver.common.keys import Keys\n",
    "\n",
    "import urllib\n",
    "import requests\n",
    "from bs4 import BeautifulSoup\n",
    "\n",
    "import os\n",
    "import glob\n",
    "\n",
    "path = 'C:/Users/Tonyr/downloads'\n",
    "os.chdir(path)\n",
    "cwd = os.getcwd()\n",
    "sd = glob.glob('transactions.csv')\n",
    "\n",
    "if len(sd) > 0:\n",
    "    os.remove(sd[0])\n",
    "    \n",
    "    \n",
    "\n",
    "\n",
    "\n",
    "req = req.get('https://mint.com')\n",
    "\n",
    "input('Enter Email Id:')  \n",
    "input('Enter Password:') \n",
    "\n",
    "url = \"https://www.mint.com/\"\n",
    "path = 'C:/Users/tonyr/ChromeDriver/chromedriver_win32'\n",
    "os.chdir(path)\n",
    "cwd = os.getcwd()\n",
    "options = webdriver.ChromeOptions()\n",
    "options.add_argument(\"--disable-notifications\")\n",
    "options.add_argument('--ignore-certificate-errors')\n",
    "options.add_argument(\"--test-type\")\n",
    "# options.add_argument(\"headless\")\n",
    "driver = webdriver.Chrome(options=options)\n",
    "\n",
    "\n",
    "driver.get(url)\n",
    "print (\"Opened Mint\") \n",
    "sleep(1) \n",
    "\n",
    "Login = driver.find_element_by_xpath('/html/body/div[1]/div/section[1]/header/div/div[3]/a[2]')\n",
    "Login.click()\n",
    "\n",
    "username_box = driver.find_element_by_id('ius-userid') \n",
    "username_box.send_keys(usr) \n",
    "print (\"Email Id entered\") \n",
    "sleep(1) \n",
    "  \n",
    "password_box = driver.find_element_by_id('ius-password') \n",
    "password_box.send_keys(pwd) \n",
    "print (\"Password entered\") \n",
    "\n",
    "SignInClick = driver.find_element_by_id('ius-sign-in-submit-btn-text') \n",
    "SignInClick.click() \n",
    "print (\"Signed In\") \n",
    "sleep(30)\n",
    "\n",
    "x = driver.find_element_by_class_name('pageContentSection')\n",
    "xtext = x.text\n",
    "while xtext.lower().find('refreshing') >= 0:\n",
    "    print('Waiting For Refresh')\n",
    "    sleep(10)\n",
    "    x = driver.find_element_by_class_name('pageContentSection')\n",
    "    xtext = x.text\n",
    "transactions = driver.find_element_by_id('transaction')\n",
    "transactions.click()\n",
    "sleep(30)\n",
    "\n",
    "transactionsexport = driver.find_element_by_id('transactionExport')\n",
    "driver.execute_script(\"arguments[0].click();\", transactionsexport)\n",
    "\n",
    "\n"
   ]
  },
  {
   "cell_type": "code",
   "execution_count": 3,
   "metadata": {},
   "outputs": [],
   "source": [
    "path = 'C:/Users/Tonyr/'\n",
    "os.chdir(path)\n",
    "cwd = os.getcwd()\n",
    "\n",
    "filenew = 'Downloads/transactions.csv'\n",
    "fileold = 'Desktop/Self Education/production files/transactions.csv'\n",
    "\n",
    "\n",
    "\n",
    "transactionsnew = pd.read_csv(filenew,parse_dates = [0])\n",
    "transactionsold = pd.read_csv(fileold, parse_dates = [0])\n",
    "transactionsold['date'] = pd.to_datetime(transactionsold['date'])\n",
    "transactionsnew['Date'] = pd.to_datetime(transactionsnew['Date'])\n",
    "\n",
    "\n"
   ]
  },
  {
   "cell_type": "code",
   "execution_count": 4,
   "metadata": {
    "scrolled": false
   },
   "outputs": [
    {
     "name": "stdout",
     "output_type": "stream",
     "text": [
      "2016-12-30 00:00:00   2019-03-23 00:00:00\n",
      "2016-12-30 00:00:00   2019-03-24 00:00:00\n"
     ]
    }
   ],
   "source": [
    "import numpy as np \n",
    "transactionsnew\n",
    "\n",
    "conditions = [(transactionsnew['Transaction Type'] == 'debit'),(transactionsnew['Transaction Type'] == 'credit')]\n",
    "choices = [transactionsnew['Amount'] * - 1 , transactionsnew['Amount']]\n",
    "transactionsnew['Amount Transformed'] = np.select(conditions, choices, default = 'Fucker')\n",
    "\n",
    "\n",
    "print(transactionsold['date'].min(),' ',  transactionsold['date'].max())\n",
    "\n",
    "print(transactionsnew['Date'].min(),' ',  transactionsnew['Date'].max())"
   ]
  },
  {
   "cell_type": "markdown",
   "metadata": {},
   "source": [
    "## Only Grab Data between Prior Thursday 10/11 days agao when done on Saturday/Sunday thru previous Wednesday 3/4 days"
   ]
  },
  {
   "cell_type": "code",
   "execution_count": 5,
   "metadata": {},
   "outputs": [
    {
     "name": "stdout",
     "output_type": "stream",
     "text": [
      "Start2: 2019-03-11 00:00:00 End2: 2019-03-25 00:00:00\n",
      "Range Bringing In: 2019-03-11 00:00:00   2019-03-24 00:00:00\n",
      "Range Keeping:     2016-12-30 00:00:00   2019-03-10 00:00:00\n"
     ]
    }
   ],
   "source": [
    "import datetime \n",
    "today = datetime.datetime.now()\n",
    "end = datetime.timedelta(days = 0)\n",
    "start = datetime.timedelta(days = 14)\n",
    "\n",
    "end2 = today - end\n",
    "end2 = end2.replace(hour = 0, minute = 0, second = 0,microsecond = 0)\n",
    "end2\n",
    "\n",
    "start2 = today - start\n",
    "start2 = start2.replace(hour = 0, minute = 0, second = 0,microsecond = 0)\n",
    "\n",
    "\n",
    "print('Start2:',start2,'End2:', end2)\n",
    "\n",
    "\n",
    "x = transactionsold['date'].max()\n",
    "New = transactionsnew[(transactionsnew['Date'] >= start2) & (transactionsnew['Date'] <=end2) ]\n",
    "Old = transactionsold[transactionsold['date'] < start2]\n",
    "\n",
    "print('Range Bringing In:', New['Date'].min(),' ',  New['Date'].max())\n",
    "\n",
    "print('Range Keeping:    ' , Old['date'].min(),' ',  Old['date'].max())\n",
    "\n",
    "New = New[['Date','Description', 'Original Description', 'Amount', 'Amount Transformed', 'Transaction Type' , 'Category'\n",
    "     , 'Account Name', 'Labels']]\n",
    "\n",
    "\n",
    "New.columns = Old.columns"
   ]
  },
  {
   "cell_type": "code",
   "execution_count": 6,
   "metadata": {},
   "outputs": [],
   "source": [
    "\n",
    "from sqlalchemy import create_engine\n",
    "\n",
    "transactionsupdate = pd.concat([New, Old])\n",
    "cols = ['date', 'description', 'originaldescription', 'amount','amount_transformed', 'transaction_type' , 'category','account_name', 'sub_cat']\n",
    "transactionsupdate.columns = cols\n",
    "\n",
    "engine = create_engine('postgresql+psycopg2://postgres:<Password>@localhost:<Port>/<Database>')\n",
    "\n",
    "\n",
    "transactionsupdate.to_sql('transactionsupdate' , con = engine, if_exists = 'replace')"
   ]
  },
  {
   "cell_type": "code",
   "execution_count": 12,
   "metadata": {},
   "outputs": [],
   "source": [
    "import pandas\n",
    "from pandas import DataFrame\n",
    "\n",
    "connection = engine.connect()\n",
    "execute = connection.execute(\"Select * from transactionsupdate\")\n",
    "DF = pandas.DataFrame(execute.fetchall())\n",
    "DF.columns = execute.keys()\n",
    "\n",
    "del DF['index']\n",
    "\n",
    "\n",
    "DF.to_csv('C:/Users/Tonyr/Desktop/Self Education/production files/transactions.csv', index = False)"
   ]
  }
 ],
 "metadata": {
  "kernelspec": {
   "display_name": "Python 3",
   "language": "python",
   "name": "python3"
  },
  "language_info": {
   "codemirror_mode": {
    "name": "ipython",
    "version": 3
   },
   "file_extension": ".py",
   "mimetype": "text/x-python",
   "name": "python",
   "nbconvert_exporter": "python",
   "pygments_lexer": "ipython3",
   "version": "3.7.1"
  }
 },
 "nbformat": 4,
 "nbformat_minor": 2
}
